{
 "cells": [
  {
   "cell_type": "code",
   "execution_count": 9,
   "metadata": {
    "collapsed": false
   },
   "outputs": [],
   "source": [
    "import psycopg2\n",
    "conn = psycopg2.connect(\"\"\"dbname='iot' user='gpadmin' host='10.110.122.107' port='5432' password='changeme'\"\"\")"
   ]
  },
  {
   "cell_type": "code",
   "execution_count": 10,
   "metadata": {
    "collapsed": false
   },
   "outputs": [
    {
     "name": "stdout",
     "output_type": "stream",
     "text": [
      "    x          y\n",
      "0   1   1.852321\n",
      "1   2   2.987978\n",
      "2   3   3.733503\n",
      "3   4   4.905154\n",
      "4   5   5.146880\n",
      "5   6   6.016494\n",
      "6   7   7.978725\n",
      "7   8   8.040061\n",
      "8   9   9.683253\n",
      "9  10  10.275583\n"
     ]
    }
   ],
   "source": [
    "import pandas.io.sql as psql\n",
    "test_conn = psql.read_sql('select x, x+random() as y from generate_series(1,10) x;',conn)\n",
    "print test_conn"
   ]
  },
  {
   "cell_type": "code",
   "execution_count": 12,
   "metadata": {
    "collapsed": false
   },
   "outputs": [
    {
     "ename": "SyntaxError",
     "evalue": "invalid syntax (<ipython-input-12-2ff4559614f8>, line 1)",
     "output_type": "error",
     "traceback": [
      "\u001b[0;36m  File \u001b[0;32m\"<ipython-input-12-2ff4559614f8>\"\u001b[0;36m, line \u001b[0;32m1\u001b[0m\n\u001b[0;31m    import plot from matplotlib as plt\u001b[0m\n\u001b[0m                   ^\u001b[0m\n\u001b[0;31mSyntaxError\u001b[0m\u001b[0;31m:\u001b[0m invalid syntax\n"
     ]
    }
   ],
   "source": [
    "import plot from matplotlib as plt\n",
    "plt.plot(1,2)"
   ]
  },
  {
   "cell_type": "code",
   "execution_count": 3,
   "metadata": {
    "collapsed": false
   },
   "outputs": [],
   "source": [
    "run sql/queries.py"
   ]
  },
  {
   "cell_type": "code",
   "execution_count": 113,
   "metadata": {
    "collapsed": false
   },
   "outputs": [
    {
     "name": "stdout",
     "output_type": "stream",
     "text": [
      "\n",
      "        -- Flagging failure ONLY 1 hour ahead NOT for the whole run\n",
      "        drop table if exists iot_app.drilling_data_1000_arr_1hr_ahead;\n",
      "        create table iot_app.drilling_data_1000_arr_1hr_ahead \n",
      "        as \n",
      "        (\n",
      "            select \n",
      "                case when failure_flag_for_full_run = 1 and ts_utc >= max_ts_utc_per_run - '1 hour'::interval then 1\n",
      "                     else 0\n",
      "                end::integer as flag_dep_var,\n",
      "                random() as seed,\n",
      "                *,\n",
      "                rpm_stats_arr || rop_stats_arr || wob_stats_arr || flow_stats_arr || bitpos_stats_arr as indep_var_col,\n",
      "                rpm_stats_arr_names || rop_stats_arr_names || wob_stats_arr_names || flow_stats_arr_names || bitpos_stats_arr_names as indep_var_col_names\n",
      "            from (\n",
      "                select \n",
      "                    *, \n",
      "                    max(ts_utc) over (partition by well_id, run_id) as max_ts_utc_per_run\n",
      "                from iot_app.drilling_data_1000_arr\n",
      "            ) t\n",
      "        ) distributed by (global_window_id);    \n",
      "    \n"
     ]
    }
   ],
   "source": [
    "input_schema = \"iot_app\"\n",
    "input_table = \"drilling_data_1000_arr\"\n",
    "output_schema = \"iot_app\"\n",
    "output_table = \"drilling_data_1000_arr_1hr_ahead\"\n",
    "sql = add_label_to_features(input_schema, input_table, output_schema, output_table)\n",
    "print sql\n",
    "df = psql.execute(sql, conn)\n",
    "conn.commit()"
   ]
  },
  {
   "cell_type": "code",
   "execution_count": 6,
   "metadata": {
    "collapsed": false
   },
   "outputs": [
    {
     "name": "stdout",
     "output_type": "stream",
     "text": [
      "  \n",
      "        -- Training table\n",
      "        drop table if exists iot_app.drilling_data_1000_arr_1hr_ahead_tt_train;\n",
      "        create table iot_app.drilling_data_1000_arr_1hr_ahead_tt_train\n",
      "        as\n",
      "        (\n",
      "            select \n",
      "                *\n",
      "            from \n",
      "                iot_app.drilling_data_1000_arr_1hr_ahead\n",
      "            where \n",
      "                seed <= 0.70\n",
      "                and\n",
      "                -- Removing wells with NULL values in the features\n",
      "                (well_id, run_id, window_id, global_window_id) not in (\n",
      "                    select well_id, run_id, window_id, global_window_id\n",
      "                    from ( \n",
      "                        select well_id, run_id, window_id, global_window_id, flag_dep_var, seed, unnest(indep_var_col) as uval\n",
      "                        from iot_app.drilling_data_1000_arr_1hr_ahead\n",
      "                    ) t1\n",
      "                    where uval is NULL\n",
      "                    group by 1,2,3,4\n",
      "                    )\n",
      "        ) distributed by (global_window_id);\n",
      "        \n",
      "        -- Test table\n",
      "        drop table if exists iot_app.drilling_data_1000_arr_1hr_ahead_tt_test;\n",
      "        create table iot_app.drilling_data_1000_arr_1hr_ahead_tt_test\n",
      "        as\n",
      "        (\n",
      "            select \n",
      "                *\n",
      "            from \n",
      "                iot_app.drilling_data_1000_arr_1hr_ahead\n",
      "            where \n",
      "                seed > 0.70\n",
      "                and\n",
      "                -- Removing wells with NULL values in the features\n",
      "                (well_id, run_id, window_id, global_window_id) not in (\n",
      "                    select well_id, run_id, window_id, global_window_id\n",
      "                    from ( \n",
      "                        select well_id, run_id, window_id, global_window_id, flag_dep_var, seed, unnest(indep_var_col) as uval\n",
      "                        from iot_app.drilling_data_1000_arr_1hr_ahead\n",
      "                    ) t1\n",
      "                    where uval is NULL\n",
      "                    group by 1,2,3,4\n",
      "                    )\n",
      "        ) distributed by (global_window_id);\n",
      "        \n",
      "        -- Unified train + test table\n",
      "        drop table if exists iot_app.drilling_data_1000_arr_1hr_ahead_tt_traintest;\n",
      "        create table iot_app.drilling_data_1000_arr_1hr_ahead_tt_traintest\n",
      "        as\n",
      "        (\n",
      "            select \n",
      "                *\n",
      "            from \n",
      "                iot_app.drilling_data_1000_arr_1hr_ahead_tt_train\n",
      "            union all\n",
      "            select \n",
      "                *\n",
      "            from \n",
      "                iot_app.drilling_data_1000_arr_1hr_ahead_tt_test\n",
      "            \n",
      "        ) distributed by (global_window_id);\n",
      "                \n",
      "     drilling_data_1000_arr_1hr_ahead_tt_train drilling_data_1000_arr_1hr_ahead_tt_test drilling_data_1000_arr_1hr_ahead_tt_traintest\n",
      "      count\n",
      "0  20219212\n",
      "     count\n",
      "0  8662960\n",
      "      count\n",
      "0  28882172\n"
     ]
    }
   ],
   "source": [
    "input_schema = \"iot_app\"\n",
    "input_table = \"drilling_data_1000_arr_1hr_ahead\"\n",
    "output_schema = \"iot_app\"\n",
    "output_table = \"drilling_data_1000_arr_1hr_ahead_tt\"\n",
    "sql, output_table_train, output_table_test, output_table_tt = create_train_and_test_set(input_schema, input_table, output_schema, output_table)\n",
    "print sql, output_table_train, output_table_test, output_table_tt\n",
    "df02 = psql.execute(sql, conn)\n",
    "conn.commit()\n",
    "sql = \"select count(*) from iot_app.drilling_data_1000_arr_1hr_ahead_tt_train;\"\n",
    "df03 = psql.read_sql(sql, conn)\n",
    "print df03\n",
    "sql = \"select count(*) from iot_app.drilling_data_1000_arr_1hr_ahead_tt_test;\"\n",
    "df04 = psql.read_sql(sql, conn)\n",
    "print df04\n",
    "sql = \"select count(*) from iot_app.drilling_data_1000_arr_1hr_ahead_tt_traintest;\"\n",
    "df04b = psql.read_sql(sql, conn)\n",
    "print df04b"
   ]
  },
  {
   "cell_type": "code",
   "execution_count": 117,
   "metadata": {
    "collapsed": false
   },
   "outputs": [
    {
     "name": "stdout",
     "output_type": "stream",
     "text": [
      "\n",
      "        drop table if exists iot_app.drilling_data_1000_arr_1hr_ahead_tt_train_modelcoef;\n",
      "        select madlib.elastic_net_train(\n",
      "            'iot_app.drilling_data_1000_arr_1hr_ahead_tt_train',\n",
      "            'iot_app.drilling_data_1000_arr_1hr_ahead_tt_train_modelcoef',\n",
      "            'flag_dep_var',\n",
      "            'indep_var_col',\n",
      "            'binomial',\n",
      "            1.0,\n",
      "            0.001\n",
      "        );    \n",
      "    \n",
      "   count\n",
      "0      1\n"
     ]
    }
   ],
   "source": [
    "input_schema = \"iot_app\"\n",
    "input_table = \"drilling_data_1000_arr_1hr_ahead_tt_train\"\n",
    "output_schema = \"iot_app\"\n",
    "output_table = \"drilling_data_1000_arr_1hr_ahead_tt_train_modelcoef\"\n",
    "sql = train_model(input_schema, input_table, output_schema, output_table)\n",
    "print sql\n",
    "df05 = psql.execute(sql, conn)\n",
    "conn.commit()\n",
    "sql = \"select count(*) from iot_app.drilling_data_1000_arr_1hr_ahead_tt_train_modelcoef;\"\n",
    "df = psql.read_sql(sql, conn)\n",
    "print df"
   ]
  },
  {
   "cell_type": "code",
   "execution_count": 7,
   "metadata": {
    "collapsed": false
   },
   "outputs": [
    {
     "name": "stdout",
     "output_type": "stream",
     "text": [
      "\n",
      "        drop table if exists iot_app.drilling_data_1000_arr_1hr_ahead_tt_traintest_scored;\n",
      "        create table iot_app.drilling_data_1000_arr_1hr_ahead_tt_traintest_scored\n",
      "        as\n",
      "        (\n",
      "            select \n",
      "                   *,\n",
      "                   madlib.elastic_net_binomial_predict(coef_all, intercept, indep_var_col) as pred,\n",
      "                   madlib.elastic_net_binomial_prob (coef_all, intercept, indep_var_col) as prob\n",
      "            from iot_app.drilling_data_1000_arr_1hr_ahead_tt_train_modelcoef mdl,\n",
      "                 iot_app.drilling_data_1000_arr_1hr_ahead_tt_traintest score\n",
      "        ) distributed randomly;\n",
      "    \n"
     ]
    }
   ],
   "source": [
    "mdl_schema = \"iot_app\"\n",
    "mdl_table = \"drilling_data_1000_arr_1hr_ahead_tt_train_modelcoef\"\n",
    "scoring_schema = \"iot_app\"\n",
    "scoring_table = \"drilling_data_1000_arr_1hr_ahead_tt_traintest\"\n",
    "output_schema = \"iot_app\"\n",
    "output_table = \"drilling_data_1000_arr_1hr_ahead_tt_traintest_scored\"\n",
    "sql = predict_model(mdl_schema, mdl_table, scoring_schema, scoring_table, output_schema, output_table)\n",
    "print sql\n",
    "df07 = psql.execute(sql, conn)\n",
    "conn.commit()"
   ]
  },
  {
   "cell_type": "code",
   "execution_count": 121,
   "metadata": {
    "collapsed": false
   },
   "outputs": [
    {
     "name": "stdout",
     "output_type": "stream",
     "text": [
      "     count\n",
      "0  8662960\n"
     ]
    }
   ],
   "source": [
    "sql = \"select count(*) from iot_app.drilling_data_1000_arr_1hr_ahead_tt_traintest_scored;\"\n",
    "df08 = psql.read_sql(sql, conn)\n",
    "print df08"
   ]
  },
  {
   "cell_type": "code",
   "execution_count": 103,
   "metadata": {
    "collapsed": true
   },
   "outputs": [],
   "source": [
    "conn.close()"
   ]
  },
  {
   "cell_type": "code",
   "execution_count": null,
   "metadata": {
    "collapsed": true
   },
   "outputs": [],
   "source": []
  }
 ],
 "metadata": {
  "kernelspec": {
   "display_name": "Python 2",
   "language": "python",
   "name": "python2"
  }
 },
 "nbformat": 4,
 "nbformat_minor": 0
}
