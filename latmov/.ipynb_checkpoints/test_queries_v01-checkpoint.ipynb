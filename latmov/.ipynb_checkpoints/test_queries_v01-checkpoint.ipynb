{
 "cells": [
  {
   "cell_type": "code",
   "execution_count": 1,
   "metadata": {
    "collapsed": false
   },
   "outputs": [],
   "source": [
    "import psycopg2\n",
    "conn = psycopg2.connect(\"\"\"dbname='iot' user='gpadmin' host='10.110.122.107' port='5432' password='changeme'\"\"\")"
   ]
  },
  {
   "cell_type": "code",
   "execution_count": 2,
   "metadata": {
    "collapsed": false
   },
   "outputs": [
    {
     "name": "stdout",
     "output_type": "stream",
     "text": [
      "    x          y\n",
      "0   1   1.405287\n",
      "1   2   2.060670\n",
      "2   3   3.960938\n",
      "3   4   4.302261\n",
      "4   5   5.180327\n",
      "5   6   6.653507\n",
      "6   7   7.468237\n",
      "7   8   8.747937\n",
      "8   9   9.479931\n",
      "9  10  10.845282\n"
     ]
    }
   ],
   "source": [
    "import pandas.io.sql as psql\n",
    "test_conn = psql.read_sql('select x, x+random() as y from generate_series(1,10) x;',conn)\n",
    "print test_conn"
   ]
  },
  {
   "cell_type": "code",
   "execution_count": 3,
   "metadata": {
    "collapsed": false
   },
   "outputs": [],
   "source": [
    "run sql/queries.py"
   ]
  },
  {
   "cell_type": "code",
   "execution_count": 113,
   "metadata": {
    "collapsed": false
   },
   "outputs": [
    {
     "name": "stdout",
     "output_type": "stream",
     "text": [
      "\n",
      "        -- Flagging failure ONLY 1 hour ahead NOT for the whole run\n",
      "        drop table if exists iot_app.drilling_data_1000_arr_1hr_ahead;\n",
      "        create table iot_app.drilling_data_1000_arr_1hr_ahead \n",
      "        as \n",
      "        (\n",
      "            select \n",
      "                case when failure_flag_for_full_run = 1 and ts_utc >= max_ts_utc_per_run - '1 hour'::interval then 1\n",
      "                     else 0\n",
      "                end::integer as flag_dep_var,\n",
      "                random() as seed,\n",
      "                *,\n",
      "                rpm_stats_arr || rop_stats_arr || wob_stats_arr || flow_stats_arr || bitpos_stats_arr as indep_var_col,\n",
      "                rpm_stats_arr_names || rop_stats_arr_names || wob_stats_arr_names || flow_stats_arr_names || bitpos_stats_arr_names as indep_var_col_names\n",
      "            from (\n",
      "                select \n",
      "                    *, \n",
      "                    max(ts_utc) over (partition by well_id, run_id) as max_ts_utc_per_run\n",
      "                from iot_app.drilling_data_1000_arr\n",
      "            ) t\n",
      "        ) distributed by (global_window_id);    \n",
      "    \n"
     ]
    }
   ],
   "source": [
    "input_schema = \"iot_app\"\n",
    "input_table = \"drilling_data_1000_arr\"\n",
    "output_schema = \"iot_app\"\n",
    "output_table = \"drilling_data_1000_arr_1hr_ahead\"\n",
    "sql = add_label_to_features(input_schema, input_table, output_schema, output_table)\n",
    "print sql\n",
    "df = psql.execute(sql, conn)\n",
    "conn.commit()"
   ]
  },
  {
   "cell_type": "code",
   "execution_count": null,
   "metadata": {
    "collapsed": false
   },
   "outputs": [],
   "source": [
    "input_schema = \"iot_app\"\n",
    "input_table = \"drilling_data_1000_arr_1hr_ahead\"\n",
    "output_schema = \"iot_app\"\n",
    "output_table = \"drilling_data_1000_arr_1hr_ahead_tt\"\n",
    "sql, output_table_train, output_table_test, output_table_tt = create_train_and_test_set(input_schema, input_table, output_schema, output_table)\n",
    "print sql, output_table_train, output_table_test, output_table_tt\n",
    "df02 = psql.execute(sql, conn)\n",
    "conn.commit()\n",
    "sql = \"select count(*) from iot_app.drilling_data_1000_arr_1hr_ahead_tt_train;\"\n",
    "df03 = psql.read_sql(sql, conn)\n",
    "print df03\n",
    "sql = \"select count(*) from iot_app.drilling_data_1000_arr_1hr_ahead_tt_test;\"\n",
    "df04 = psql.read_sql(sql, conn)\n",
    "print df04\n",
    "sql = \"select count(*) from iot_app.drilling_data_1000_arr_1hr_ahead_tt_traintest;\"\n",
    "df04b = psql.read_sql(sql, conn)\n",
    "print df04b"
   ]
  },
  {
   "cell_type": "code",
   "execution_count": 117,
   "metadata": {
    "collapsed": false
   },
   "outputs": [
    {
     "name": "stdout",
     "output_type": "stream",
     "text": [
      "\n",
      "        drop table if exists iot_app.drilling_data_1000_arr_1hr_ahead_tt_train_modelcoef;\n",
      "        select madlib.elastic_net_train(\n",
      "            'iot_app.drilling_data_1000_arr_1hr_ahead_tt_train',\n",
      "            'iot_app.drilling_data_1000_arr_1hr_ahead_tt_train_modelcoef',\n",
      "            'flag_dep_var',\n",
      "            'indep_var_col',\n",
      "            'binomial',\n",
      "            1.0,\n",
      "            0.001\n",
      "        );    \n",
      "    \n",
      "   count\n",
      "0      1\n"
     ]
    }
   ],
   "source": [
    "input_schema = \"iot_app\"\n",
    "input_table = \"drilling_data_1000_arr_1hr_ahead_tt_train\"\n",
    "output_schema = \"iot_app\"\n",
    "output_table = \"drilling_data_1000_arr_1hr_ahead_tt_train_modelcoef\"\n",
    "sql = train_model(input_schema, input_table, output_schema, output_table)\n",
    "print sql\n",
    "df05 = psql.execute(sql, conn)\n",
    "conn.commit()\n",
    "sql = \"select count(*) from iot_app.drilling_data_1000_arr_1hr_ahead_tt_train_modelcoef;\"\n",
    "df = psql.read_sql(sql, conn)\n",
    "print df"
   ]
  },
  {
   "cell_type": "code",
   "execution_count": 4,
   "metadata": {
    "collapsed": false
   },
   "outputs": [
    {
     "name": "stdout",
     "output_type": "stream",
     "text": [
      "\n",
      "        drop table if exists iot_app.drilling_data_1000_arr_1hr_ahead_tt_traintest_scored;\n",
      "        create table iot_app.drilling_data_1000_arr_1hr_ahead_tt_traintest_scored\n",
      "        as\n",
      "        (\n",
      "            select \n",
      "                   *,\n",
      "                   madlib.elastic_net_binomial_predict(coef_all, intercept, indep_var_col) as pred,\n",
      "                   madlib.elastic_net_binomial_prob (coef_all, intercept, indep_var_col) as prob\n",
      "            from iot_app.drilling_data_1000_arr_1hr_ahead_tt_train_modelcoef mdl,\n",
      "                 iot_app.drilling_data_1000_arr_1hr_ahead_tt_traintest score\n",
      "        ) distributed randomly;\n",
      "    \n"
     ]
    },
    {
     "ename": "DatabaseError",
     "evalue": "Execution failed on sql '\n        drop table if exists iot_app.drilling_data_1000_arr_1hr_ahead_tt_traintest_scored;\n        create table iot_app.drilling_data_1000_arr_1hr_ahead_tt_traintest_scored\n        as\n        (\n            select \n                   *,\n                   madlib.elastic_net_binomial_predict(coef_all, intercept, indep_var_col) as pred,\n                   madlib.elastic_net_binomial_prob (coef_all, intercept, indep_var_col) as prob\n            from iot_app.drilling_data_1000_arr_1hr_ahead_tt_train_modelcoef mdl,\n                 iot_app.drilling_data_1000_arr_1hr_ahead_tt_traintest score\n        ) distributed randomly;\n    ': relation \"iot_app.drilling_data_1000_arr_1hr_ahead_tt_traintest\" does not exist\nLINE 11:                  iot_app.drilling_data_1000_arr_1hr_ahead_tt...\n                          ^\n",
     "output_type": "error",
     "traceback": [
      "\u001b[0;31m---------------------------------------------------------------------------\u001b[0m",
      "\u001b[0;31mDatabaseError\u001b[0m                             Traceback (most recent call last)",
      "\u001b[0;32m<ipython-input-4-2ceceef851b1>\u001b[0m in \u001b[0;36m<module>\u001b[0;34m()\u001b[0m\n\u001b[1;32m      7\u001b[0m \u001b[0msql\u001b[0m \u001b[0;34m=\u001b[0m \u001b[0mpredict_model\u001b[0m\u001b[0;34m(\u001b[0m\u001b[0mmdl_schema\u001b[0m\u001b[0;34m,\u001b[0m \u001b[0mmdl_table\u001b[0m\u001b[0;34m,\u001b[0m \u001b[0mscoring_schema\u001b[0m\u001b[0;34m,\u001b[0m \u001b[0mscoring_table\u001b[0m\u001b[0;34m,\u001b[0m \u001b[0moutput_schema\u001b[0m\u001b[0;34m,\u001b[0m \u001b[0moutput_table\u001b[0m\u001b[0;34m)\u001b[0m\u001b[0;34m\u001b[0m\u001b[0m\n\u001b[1;32m      8\u001b[0m \u001b[0;32mprint\u001b[0m \u001b[0msql\u001b[0m\u001b[0;34m\u001b[0m\u001b[0m\n\u001b[0;32m----> 9\u001b[0;31m \u001b[0mdf07\u001b[0m \u001b[0;34m=\u001b[0m \u001b[0mpsql\u001b[0m\u001b[0;34m.\u001b[0m\u001b[0mexecute\u001b[0m\u001b[0;34m(\u001b[0m\u001b[0msql\u001b[0m\u001b[0;34m,\u001b[0m \u001b[0mconn\u001b[0m\u001b[0;34m)\u001b[0m\u001b[0;34m\u001b[0m\u001b[0m\n\u001b[0m\u001b[1;32m     10\u001b[0m \u001b[0mconn\u001b[0m\u001b[0;34m.\u001b[0m\u001b[0mcommit\u001b[0m\u001b[0;34m(\u001b[0m\u001b[0;34m)\u001b[0m\u001b[0;34m\u001b[0m\u001b[0m\n",
      "\u001b[0;32m/Users/rraghu/anaconda/lib/python2.7/site-packages/pandas/io/sql.pyc\u001b[0m in \u001b[0;36mexecute\u001b[0;34m(sql, con, cur, params)\u001b[0m\n\u001b[1;32m    157\u001b[0m         \u001b[0mpandas_sql\u001b[0m \u001b[0;34m=\u001b[0m \u001b[0mpandasSQL_builder\u001b[0m\u001b[0;34m(\u001b[0m\u001b[0mcur\u001b[0m\u001b[0;34m,\u001b[0m \u001b[0mis_cursor\u001b[0m\u001b[0;34m=\u001b[0m\u001b[0mTrue\u001b[0m\u001b[0;34m)\u001b[0m\u001b[0;34m\u001b[0m\u001b[0m\n\u001b[1;32m    158\u001b[0m     \u001b[0margs\u001b[0m \u001b[0;34m=\u001b[0m \u001b[0m_convert_params\u001b[0m\u001b[0;34m(\u001b[0m\u001b[0msql\u001b[0m\u001b[0;34m,\u001b[0m \u001b[0mparams\u001b[0m\u001b[0;34m)\u001b[0m\u001b[0;34m\u001b[0m\u001b[0m\n\u001b[0;32m--> 159\u001b[0;31m     \u001b[0;32mreturn\u001b[0m \u001b[0mpandas_sql\u001b[0m\u001b[0;34m.\u001b[0m\u001b[0mexecute\u001b[0m\u001b[0;34m(\u001b[0m\u001b[0;34m*\u001b[0m\u001b[0margs\u001b[0m\u001b[0;34m)\u001b[0m\u001b[0;34m\u001b[0m\u001b[0m\n\u001b[0m\u001b[1;32m    160\u001b[0m \u001b[0;34m\u001b[0m\u001b[0m\n\u001b[1;32m    161\u001b[0m \u001b[0;34m\u001b[0m\u001b[0m\n",
      "\u001b[0;32m/Users/rraghu/anaconda/lib/python2.7/site-packages/pandas/io/sql.pyc\u001b[0m in \u001b[0;36mexecute\u001b[0;34m(self, *args, **kwargs)\u001b[0m\n\u001b[1;32m   1419\u001b[0m \u001b[0;34m\u001b[0m\u001b[0m\n\u001b[1;32m   1420\u001b[0m             \u001b[0mex\u001b[0m \u001b[0;34m=\u001b[0m \u001b[0mDatabaseError\u001b[0m\u001b[0;34m(\u001b[0m\u001b[0;34m\"Execution failed on sql '%s': %s\"\u001b[0m \u001b[0;34m%\u001b[0m \u001b[0;34m(\u001b[0m\u001b[0margs\u001b[0m\u001b[0;34m[\u001b[0m\u001b[0;36m0\u001b[0m\u001b[0;34m]\u001b[0m\u001b[0;34m,\u001b[0m \u001b[0mexc\u001b[0m\u001b[0;34m)\u001b[0m\u001b[0;34m)\u001b[0m\u001b[0;34m\u001b[0m\u001b[0m\n\u001b[0;32m-> 1421\u001b[0;31m             \u001b[0mraise_with_traceback\u001b[0m\u001b[0;34m(\u001b[0m\u001b[0mex\u001b[0m\u001b[0;34m)\u001b[0m\u001b[0;34m\u001b[0m\u001b[0m\n\u001b[0m\u001b[1;32m   1422\u001b[0m \u001b[0;34m\u001b[0m\u001b[0m\n\u001b[1;32m   1423\u001b[0m     \u001b[0;34m@\u001b[0m\u001b[0mstaticmethod\u001b[0m\u001b[0;34m\u001b[0m\u001b[0m\n",
      "\u001b[0;32m/Users/rraghu/anaconda/lib/python2.7/site-packages/pandas/io/sql.pyc\u001b[0m in \u001b[0;36mexecute\u001b[0;34m(self, *args, **kwargs)\u001b[0m\n\u001b[1;32m   1408\u001b[0m                 \u001b[0mcur\u001b[0m\u001b[0;34m.\u001b[0m\u001b[0mexecute\u001b[0m\u001b[0;34m(\u001b[0m\u001b[0;34m*\u001b[0m\u001b[0margs\u001b[0m\u001b[0;34m,\u001b[0m \u001b[0;34m**\u001b[0m\u001b[0mkwargs\u001b[0m\u001b[0;34m)\u001b[0m\u001b[0;34m\u001b[0m\u001b[0m\n\u001b[1;32m   1409\u001b[0m             \u001b[0;32melse\u001b[0m\u001b[0;34m:\u001b[0m\u001b[0;34m\u001b[0m\u001b[0m\n\u001b[0;32m-> 1410\u001b[0;31m                 \u001b[0mcur\u001b[0m\u001b[0;34m.\u001b[0m\u001b[0mexecute\u001b[0m\u001b[0;34m(\u001b[0m\u001b[0;34m*\u001b[0m\u001b[0margs\u001b[0m\u001b[0;34m)\u001b[0m\u001b[0;34m\u001b[0m\u001b[0m\n\u001b[0m\u001b[1;32m   1411\u001b[0m             \u001b[0;32mreturn\u001b[0m \u001b[0mcur\u001b[0m\u001b[0;34m\u001b[0m\u001b[0m\n\u001b[1;32m   1412\u001b[0m         \u001b[0;32mexcept\u001b[0m \u001b[0mException\u001b[0m \u001b[0;32mas\u001b[0m \u001b[0mexc\u001b[0m\u001b[0;34m:\u001b[0m\u001b[0;34m\u001b[0m\u001b[0m\n",
      "\u001b[0;31mDatabaseError\u001b[0m: Execution failed on sql '\n        drop table if exists iot_app.drilling_data_1000_arr_1hr_ahead_tt_traintest_scored;\n        create table iot_app.drilling_data_1000_arr_1hr_ahead_tt_traintest_scored\n        as\n        (\n            select \n                   *,\n                   madlib.elastic_net_binomial_predict(coef_all, intercept, indep_var_col) as pred,\n                   madlib.elastic_net_binomial_prob (coef_all, intercept, indep_var_col) as prob\n            from iot_app.drilling_data_1000_arr_1hr_ahead_tt_train_modelcoef mdl,\n                 iot_app.drilling_data_1000_arr_1hr_ahead_tt_traintest score\n        ) distributed randomly;\n    ': relation \"iot_app.drilling_data_1000_arr_1hr_ahead_tt_traintest\" does not exist\nLINE 11:                  iot_app.drilling_data_1000_arr_1hr_ahead_tt...\n                          ^\n"
     ]
    }
   ],
   "source": [
    "mdl_schema = \"iot_app\"\n",
    "mdl_table = \"drilling_data_1000_arr_1hr_ahead_tt_train_modelcoef\"\n",
    "scoring_schema = \"iot_app\"\n",
    "scoring_table = \"drilling_data_1000_arr_1hr_ahead_tt_traintest\"\n",
    "output_schema = \"iot_app\"\n",
    "output_table = \"drilling_data_1000_arr_1hr_ahead_tt_traintest_scored\"\n",
    "sql = predict_model(mdl_schema, mdl_table, scoring_schema, scoring_table, output_schema, output_table)\n",
    "print sql\n",
    "df07 = psql.execute(sql, conn)\n",
    "conn.commit()"
   ]
  },
  {
   "cell_type": "code",
   "execution_count": 121,
   "metadata": {
    "collapsed": false
   },
   "outputs": [
    {
     "name": "stdout",
     "output_type": "stream",
     "text": [
      "     count\n",
      "0  8662960\n"
     ]
    }
   ],
   "source": [
    "sql = \"select count(*) from iot_app.drilling_data_1000_arr_1hr_ahead_tt_traintest_scored;\"\n",
    "df08 = psql.read_sql(sql, conn)\n",
    "print df08"
   ]
  },
  {
   "cell_type": "code",
   "execution_count": 103,
   "metadata": {
    "collapsed": true
   },
   "outputs": [],
   "source": [
    "conn.close()"
   ]
  },
  {
   "cell_type": "code",
   "execution_count": null,
   "metadata": {
    "collapsed": true
   },
   "outputs": [],
   "source": []
  }
 ],
 "metadata": {
  "kernelspec": {
   "display_name": "Python 2",
   "language": "python",
   "name": "python2"
  },
  "language_info": {
   "codemirror_mode": {
    "name": "ipython",
    "version": 2
   },
   "file_extension": ".py",
   "mimetype": "text/x-python",
   "name": "python",
   "nbconvert_exporter": "python",
   "pygments_lexer": "ipython2",
   "version": "2.7.10"
  }
 },
 "nbformat": 4,
 "nbformat_minor": 0
}
